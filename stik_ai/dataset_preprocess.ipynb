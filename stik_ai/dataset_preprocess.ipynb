{
 "cells": [
  {
   "cell_type": "code",
   "id": "initial_id",
   "metadata": {
    "collapsed": true,
    "ExecuteTime": {
     "end_time": "2025-02-16T02:02:02.373681Z",
     "start_time": "2025-02-16T02:02:02.099296Z"
    }
   },
   "source": [
    "import os\n",
    "import json\n",
    "import shutil\n",
    "import random\n",
    "\n",
    "# Define paths\n",
    "dataset_root = \"train_dataset\"\n",
    "images_dir = os.path.join(dataset_root, \"images\")\n",
    "annotations_file = os.path.join(dataset_root, \"instances_default.json\")\n",
    "\n",
    "# Load COCO annotations\n",
    "with open(annotations_file, \"r\") as f:\n",
    "    coco_data = json.load(f)\n",
    "\n",
    "# Get list of image file names\n",
    "image_filenames = [img[\"file_name\"] for img in coco_data[\"images\"]]\n",
    "\n",
    "# Shuffle and split (80% train, 20% val)\n",
    "random.shuffle(image_filenames)\n",
    "split_idx = int(0.8 * len(image_filenames))\n",
    "train_images = set(image_filenames[:split_idx])\n",
    "val_images = set(image_filenames[split_idx:])\n",
    "\n",
    "# Create output directories\n",
    "train_dir = os.path.join(dataset_root, \"processed/train\")\n",
    "val_dir = os.path.join(dataset_root, \"processed/val\")\n",
    "os.makedirs(train_dir, exist_ok=True)\n",
    "os.makedirs(val_dir, exist_ok=True)\n",
    "\n",
    "# Move images to train/ and val/ directories\n",
    "for img_file in os.listdir(images_dir):\n",
    "    src_path = os.path.join(images_dir, img_file)\n",
    "    if img_file in train_images:\n",
    "        shutil.move(src_path, os.path.join(train_dir, img_file))\n",
    "    elif img_file in val_images:\n",
    "        shutil.move(src_path, os.path.join(val_dir, img_file))\n",
    "\n",
    "print(\"Dataset split complete.\")\n",
    "\n",
    "train_annotations = {k: [] if isinstance(v, list) else v for k, v in coco_data.items()}\n",
    "val_annotations = {k: [] if isinstance(v, list) else v for k, v in coco_data.items()}\n",
    "\n",
    "# Filter images and annotations\n",
    "train_annotations[\"images\"] = [img for img in coco_data[\"images\"] if img[\"file_name\"] in train_images]\n",
    "val_annotations[\"images\"] = [img for img in coco_data[\"images\"] if img[\"file_name\"] in val_images]\n",
    "\n",
    "train_image_ids = {img[\"id\"] for img in train_annotations[\"images\"]}\n",
    "val_image_ids = {img[\"id\"] for img in val_annotations[\"images\"]}\n",
    "\n",
    "train_annotations[\"annotations\"] = [ann for ann in coco_data[\"annotations\"] if ann[\"image_id\"] in train_image_ids]\n",
    "val_annotations[\"annotations\"] = [ann for ann in coco_data[\"annotations\"] if ann[\"image_id\"] in val_image_ids]\n",
    "\n",
    "# Save new JSON files\n",
    "with open(os.path.join(dataset_root, \"processed/annotations/instances_train.json\"), \"w\") as f:\n",
    "    json.dump(train_annotations, f)\n",
    "\n",
    "with open(os.path.join(dataset_root, \"processed/annotations/instances_val.json\"), \"w\") as f:\n",
    "    json.dump(val_annotations, f)\n",
    "\n",
    "print(\"Annotations split complete.\")\n",
    "\n"
   ],
   "outputs": [
    {
     "ename": "FileNotFoundError",
     "evalue": "[Errno 2] No such file or directory: 'train_dataset/instances_default.json'",
     "output_type": "error",
     "traceback": [
      "\u001B[0;31m---------------------------------------------------------------------------\u001B[0m",
      "\u001B[0;31mFileNotFoundError\u001B[0m                         Traceback (most recent call last)",
      "Cell \u001B[0;32mIn[1], line 12\u001B[0m\n\u001B[1;32m      9\u001B[0m annotations_file \u001B[38;5;241m=\u001B[39m os\u001B[38;5;241m.\u001B[39mpath\u001B[38;5;241m.\u001B[39mjoin(dataset_root, \u001B[38;5;124m\"\u001B[39m\u001B[38;5;124minstances_default.json\u001B[39m\u001B[38;5;124m\"\u001B[39m)\n\u001B[1;32m     11\u001B[0m \u001B[38;5;66;03m# Load COCO annotations\u001B[39;00m\n\u001B[0;32m---> 12\u001B[0m \u001B[38;5;28;01mwith\u001B[39;00m \u001B[38;5;28mopen\u001B[39m(annotations_file, \u001B[38;5;124m\"\u001B[39m\u001B[38;5;124mr\u001B[39m\u001B[38;5;124m\"\u001B[39m) \u001B[38;5;28;01mas\u001B[39;00m f:\n\u001B[1;32m     13\u001B[0m     coco_data \u001B[38;5;241m=\u001B[39m json\u001B[38;5;241m.\u001B[39mload(f)\n\u001B[1;32m     15\u001B[0m \u001B[38;5;66;03m# Get list of image file names\u001B[39;00m\n",
      "File \u001B[0;32m/opt/anaconda3/envs/STIK_GUI/lib/python3.12/site-packages/IPython/core/interactiveshell.py:324\u001B[0m, in \u001B[0;36m_modified_open\u001B[0;34m(file, *args, **kwargs)\u001B[0m\n\u001B[1;32m    317\u001B[0m \u001B[38;5;28;01mif\u001B[39;00m file \u001B[38;5;129;01min\u001B[39;00m {\u001B[38;5;241m0\u001B[39m, \u001B[38;5;241m1\u001B[39m, \u001B[38;5;241m2\u001B[39m}:\n\u001B[1;32m    318\u001B[0m     \u001B[38;5;28;01mraise\u001B[39;00m \u001B[38;5;167;01mValueError\u001B[39;00m(\n\u001B[1;32m    319\u001B[0m         \u001B[38;5;124mf\u001B[39m\u001B[38;5;124m\"\u001B[39m\u001B[38;5;124mIPython won\u001B[39m\u001B[38;5;124m'\u001B[39m\u001B[38;5;124mt let you open fd=\u001B[39m\u001B[38;5;132;01m{\u001B[39;00mfile\u001B[38;5;132;01m}\u001B[39;00m\u001B[38;5;124m by default \u001B[39m\u001B[38;5;124m\"\u001B[39m\n\u001B[1;32m    320\u001B[0m         \u001B[38;5;124m\"\u001B[39m\u001B[38;5;124mas it is likely to crash IPython. If you know what you are doing, \u001B[39m\u001B[38;5;124m\"\u001B[39m\n\u001B[1;32m    321\u001B[0m         \u001B[38;5;124m\"\u001B[39m\u001B[38;5;124myou can use builtins\u001B[39m\u001B[38;5;124m'\u001B[39m\u001B[38;5;124m open.\u001B[39m\u001B[38;5;124m\"\u001B[39m\n\u001B[1;32m    322\u001B[0m     )\n\u001B[0;32m--> 324\u001B[0m \u001B[38;5;28;01mreturn\u001B[39;00m io_open(file, \u001B[38;5;241m*\u001B[39margs, \u001B[38;5;241m*\u001B[39m\u001B[38;5;241m*\u001B[39mkwargs)\n",
      "\u001B[0;31mFileNotFoundError\u001B[0m: [Errno 2] No such file or directory: 'train_dataset/instances_default.json'"
     ]
    }
   ],
   "execution_count": 1
  }
 ],
 "metadata": {
  "kernelspec": {
   "display_name": "Python 3",
   "language": "python",
   "name": "python3"
  },
  "language_info": {
   "codemirror_mode": {
    "name": "ipython",
    "version": 2
   },
   "file_extension": ".py",
   "mimetype": "text/x-python",
   "name": "python",
   "nbconvert_exporter": "python",
   "pygments_lexer": "ipython2",
   "version": "2.7.6"
  }
 },
 "nbformat": 4,
 "nbformat_minor": 5
}
