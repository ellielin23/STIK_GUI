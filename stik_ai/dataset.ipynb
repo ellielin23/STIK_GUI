{
 "cells": [
  {
   "cell_type": "markdown",
   "metadata": {},
   "source": [
    "# Tumor Invasion Dataset Class for PyTorch\n",
    "\n",
    "This Jupyter Notebook defines a custom PyTorch dataset class for loading tumor spheroid invasion assay images and their segmentation masks.  \n",
    "The dataset follows the COCO annotation format and is structured for deep learning tasks such as instance segmentation.\n",
    "\n",
    "### **Functionality:**\n",
    "- Loads images and annotations from the COCO JSON dataset.\n",
    "- Preprocesses images and masks into PyTorch tensors.\n",
    "- Returns image-mask pairs for training a neural network.\n",
    "\n",
    "This dataset class will be used in model training pipelines with PyTorch's DataLoader."
   ]
  },
  {
   "cell_type": "code",
   "execution_count": null,
   "metadata": {
    "vscode": {
     "languageId": "plaintext"
    }
   },
   "outputs": [],
   "source": []
  }
 ],
 "metadata": {
  "language_info": {
   "name": "python"
  }
 },
 "nbformat": 4,
 "nbformat_minor": 2
}
