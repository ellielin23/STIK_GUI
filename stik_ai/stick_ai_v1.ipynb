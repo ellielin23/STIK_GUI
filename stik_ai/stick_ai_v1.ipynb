{
 "cells": [
  {
   "metadata": {},
   "cell_type": "code",
   "outputs": [],
   "execution_count": null,
   "source": [
    "from ultralytics import YOLO\n",
    "\n",
    "# Load the YOLOv8 segmentation model (pretrained)\n",
    "model = YOLO(\"yolov8n-seg.pt\")\n",
    "\n",
    "# Train model\n",
    "model.train(\n",
    "    data=\"/yolo_datasets/data.yaml\",\n",
    "    epochs=50,\n",
    "    imgsz=640,\n",
    "    batch=8,\n",
    "    device=\"cpu\"\n",
    ")"
   ],
   "id": "1ec44c2cfe8927e6"
  },
  {
   "metadata": {},
   "cell_type": "code",
   "outputs": [],
   "execution_count": null,
   "source": [
    "metrics = model.val()\n",
    "print(metrics)"
   ],
   "id": "e0f53504b0fcf0f1"
  },
  {
   "metadata": {},
   "cell_type": "code",
   "outputs": [],
   "execution_count": null,
   "source": [
    "results = model(\"path/to/test_image.jpg\")\n",
    "results.show()\n"
   ],
   "id": "a80a78cbaf10692b"
  }
 ],
 "metadata": {
  "kernelspec": {
   "display_name": "Python 3",
   "language": "python",
   "name": "python3"
  },
  "language_info": {
   "codemirror_mode": {
    "name": "ipython",
    "version": 2
   },
   "file_extension": ".py",
   "mimetype": "text/x-python",
   "name": "python",
   "nbconvert_exporter": "python",
   "pygments_lexer": "ipython2",
   "version": "2.7.6"
  }
 },
 "nbformat": 4,
 "nbformat_minor": 5
}
