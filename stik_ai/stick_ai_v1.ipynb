{
 "cells": [
  {
   "metadata": {},
   "cell_type": "code",
   "outputs": [],
   "execution_count": null,
   "source": [
    "from ultralytics import YOLO\n",
    "\n",
    "# Load the YOLOv8 segmentation model (pretrained)\n",
    "model = YOLO(\"yolov8n-seg.pt\")\n",
    "\n",
    "# Train model\n",
    "model.train(\n",
    "    data=\"/yolo_datasets/data.yaml\",\n",
    "    epochs=50,\n",
    "    imgsz=640,\n",
    "    batch=8,\n",
    "    device=\"cpu\"\n",
    ")"
   ],
   "id": "1ec44c2cfe8927e6"
  },
  {
   "metadata": {},
   "cell_type": "code",
   "outputs": [],
   "execution_count": null,
   "source": [
    "metrics = model.val()\n",
    "print(metrics)"
   ],
   "id": "e0f53504b0fcf0f1"
  },
  {
   "metadata": {},
   "cell_type": "code",
   "outputs": [],
   "execution_count": null,
   "source": [
    "results = model(\"path/to/test_image.jpg\")\n",
    "results.show()\n"
   ],
   "id": "a80a78cbaf10692b"
  },
  {
   "metadata": {},
   "cell_type": "code",
   "outputs": [],
   "execution_count": null,
   "source": [
    "import os\n",
    "\n",
    "input_folder = \"path/to/new_images\"\n",
    "output_folder = \"path/to/annotated_images\"\n",
    "os.makedirs(output_folder, exist_ok=True)\n",
    "\n",
    "# Run inference on all images in the folder\n",
    "results = model([os.path.join(input_folder, img) for img in os.listdir(input_folder)])\n",
    "\n",
    "# Save annotated images\n",
    "for i, r in enumerate(results):\n",
    "    r.save(os.path.join(output_folder, f\"annotated_{i}.jpg\"))  # Saves output images\n",
    "\n",
    "areas = []\n",
    "\n",
    "# Iterate through results and calculate area for segmentation masks\n",
    "for r in results:\n",
    "    if r.masks:  # Check if masks exist\n",
    "        for mask in r.masks:\n",
    "            area = mask.area()  # Get the area of the segmentation mask\n",
    "            areas.append(area)\n",
    "\n",
    "print(areas)  # Print the array of areas\n"
   ],
   "id": "fc4476b131cb8984"
  }
 ],
 "metadata": {
  "kernelspec": {
   "display_name": "Python 3",
   "language": "python",
   "name": "python3"
  },
  "language_info": {
   "codemirror_mode": {
    "name": "ipython",
    "version": 2
   },
   "file_extension": ".py",
   "mimetype": "text/x-python",
   "name": "python",
   "nbconvert_exporter": "python",
   "pygments_lexer": "ipython2",
   "version": "2.7.6"
  }
 },
 "nbformat": 4,
 "nbformat_minor": 5
}
